{
 "cells": [
  {
   "cell_type": "code",
   "execution_count": 6,
   "metadata": {},
   "outputs": [],
   "source": [
    "import pandas as pd\n",
    "import seaborn as sns"
   ]
  },
  {
   "cell_type": "code",
   "execution_count": 7,
   "metadata": {},
   "outputs": [],
   "source": [
    "import chardet\n",
    "\n",
    "with open(\"prueba.csv\", \"rb\") as f:\n",
    "    result = chardet.detect(f.read())\n",
    "    encoding = result[\"encoding\"]\n",
    "\n",
    "df = pd.read_csv(\"prueba.csv\", encoding=encoding, on_bad_lines=\"skip\",sep=\";\")\n",
    "\n"
   ]
  },
  {
   "cell_type": "code",
   "execution_count": 8,
   "metadata": {},
   "outputs": [
    {
     "data": {
      "text/plain": [
       "(16326, 10)"
      ]
     },
     "execution_count": 8,
     "metadata": {},
     "output_type": "execute_result"
    }
   ],
   "source": [
    "df.shape\n"
   ]
  },
  {
   "cell_type": "code",
   "execution_count": 9,
   "metadata": {},
   "outputs": [
    {
     "data": {
      "text/html": [
       "<div>\n",
       "<style scoped>\n",
       "    .dataframe tbody tr th:only-of-type {\n",
       "        vertical-align: middle;\n",
       "    }\n",
       "\n",
       "    .dataframe tbody tr th {\n",
       "        vertical-align: top;\n",
       "    }\n",
       "\n",
       "    .dataframe thead th {\n",
       "        text-align: right;\n",
       "    }\n",
       "</style>\n",
       "<table border=\"1\" class=\"dataframe\">\n",
       "  <thead>\n",
       "    <tr style=\"text-align: right;\">\n",
       "      <th></th>\n",
       "      <th>Año</th>\n",
       "      <th>Ventas NA</th>\n",
       "      <th>Ventas EU</th>\n",
       "      <th>Ventas JP</th>\n",
       "      <th>Ventas Otros</th>\n",
       "      <th>Ventas Global</th>\n",
       "    </tr>\n",
       "  </thead>\n",
       "  <tbody>\n",
       "    <tr>\n",
       "      <th>count</th>\n",
       "      <td>16326.000000</td>\n",
       "      <td>16326.000000</td>\n",
       "      <td>16326.000000</td>\n",
       "      <td>16326.000000</td>\n",
       "      <td>16326.000000</td>\n",
       "      <td>16326.000000</td>\n",
       "    </tr>\n",
       "    <tr>\n",
       "      <th>mean</th>\n",
       "      <td>2006.405611</td>\n",
       "      <td>0.265415</td>\n",
       "      <td>0.147563</td>\n",
       "      <td>0.078667</td>\n",
       "      <td>0.048327</td>\n",
       "      <td>0.540247</td>\n",
       "    </tr>\n",
       "    <tr>\n",
       "      <th>std</th>\n",
       "      <td>5.828189</td>\n",
       "      <td>0.821616</td>\n",
       "      <td>0.508780</td>\n",
       "      <td>0.311566</td>\n",
       "      <td>0.189891</td>\n",
       "      <td>1.565779</td>\n",
       "    </tr>\n",
       "    <tr>\n",
       "      <th>min</th>\n",
       "      <td>1980.000000</td>\n",
       "      <td>0.000000</td>\n",
       "      <td>0.000000</td>\n",
       "      <td>0.000000</td>\n",
       "      <td>0.000000</td>\n",
       "      <td>0.010000</td>\n",
       "    </tr>\n",
       "    <tr>\n",
       "      <th>25%</th>\n",
       "      <td>2003.000000</td>\n",
       "      <td>0.000000</td>\n",
       "      <td>0.000000</td>\n",
       "      <td>0.000000</td>\n",
       "      <td>0.000000</td>\n",
       "      <td>0.060000</td>\n",
       "    </tr>\n",
       "    <tr>\n",
       "      <th>50%</th>\n",
       "      <td>2007.000000</td>\n",
       "      <td>0.080000</td>\n",
       "      <td>0.020000</td>\n",
       "      <td>0.000000</td>\n",
       "      <td>0.010000</td>\n",
       "      <td>0.170000</td>\n",
       "    </tr>\n",
       "    <tr>\n",
       "      <th>75%</th>\n",
       "      <td>2010.000000</td>\n",
       "      <td>0.240000</td>\n",
       "      <td>0.110000</td>\n",
       "      <td>0.040000</td>\n",
       "      <td>0.040000</td>\n",
       "      <td>0.480000</td>\n",
       "    </tr>\n",
       "    <tr>\n",
       "      <th>max</th>\n",
       "      <td>2017.000000</td>\n",
       "      <td>41.490000</td>\n",
       "      <td>29.020000</td>\n",
       "      <td>10.220000</td>\n",
       "      <td>10.570000</td>\n",
       "      <td>82.740000</td>\n",
       "    </tr>\n",
       "  </tbody>\n",
       "</table>\n",
       "</div>"
      ],
      "text/plain": [
       "                Año     Ventas NA     Ventas EU     Ventas JP  Ventas Otros  \\\n",
       "count  16326.000000  16326.000000  16326.000000  16326.000000  16326.000000   \n",
       "mean    2006.405611      0.265415      0.147563      0.078667      0.048327   \n",
       "std        5.828189      0.821616      0.508780      0.311566      0.189891   \n",
       "min     1980.000000      0.000000      0.000000      0.000000      0.000000   \n",
       "25%     2003.000000      0.000000      0.000000      0.000000      0.000000   \n",
       "50%     2007.000000      0.080000      0.020000      0.000000      0.010000   \n",
       "75%     2010.000000      0.240000      0.110000      0.040000      0.040000   \n",
       "max     2017.000000     41.490000     29.020000     10.220000     10.570000   \n",
       "\n",
       "       Ventas Global  \n",
       "count   16326.000000  \n",
       "mean        0.540247  \n",
       "std         1.565779  \n",
       "min         0.010000  \n",
       "25%         0.060000  \n",
       "50%         0.170000  \n",
       "75%         0.480000  \n",
       "max        82.740000  "
      ]
     },
     "execution_count": 9,
     "metadata": {},
     "output_type": "execute_result"
    }
   ],
   "source": [
    "df.describe()"
   ]
  },
  {
   "cell_type": "code",
   "execution_count": 10,
   "metadata": {},
   "outputs": [
    {
     "name": "stdout",
     "output_type": "stream",
     "text": [
      "Plataforma\n",
      "PS2     1233.46\n",
      "X360     969.61\n",
      "PS3      949.35\n",
      "Wii      909.81\n",
      "DS       818.67\n",
      "PS       727.39\n",
      "GBA      313.56\n",
      "PSP      291.71\n",
      "PS4      278.10\n",
      "PC       255.05\n",
      "GB       254.42\n",
      "XB       252.09\n",
      "NES      251.07\n",
      "3DS      246.28\n",
      "N64      218.21\n",
      "SNES     200.05\n",
      "GC       197.14\n",
      "XOne     141.06\n",
      "2600      86.57\n",
      "WiiU      81.86\n",
      "PSV       61.63\n",
      "SAT       33.59\n",
      "GEN       28.36\n",
      "DC        15.97\n",
      "SCD        1.87\n",
      "NG         1.44\n",
      "WS         1.42\n",
      "TG16       0.16\n",
      "3DO        0.10\n",
      "GG         0.04\n",
      "PCFX       0.03\n",
      "Name: Ventas Global, dtype: float64\n"
     ]
    }
   ],
   "source": [
    "# Agrupar por plataforma y sumar las ventas globales\n",
    "ventas_por_plataforma = df.groupby(\"Plataforma\")[\"Ventas Global\"].sum()\n",
    "\n",
    "# Ordenar las plataformas por las ventas globales en orden descendente\n",
    "ventas_por_plataforma_ordenadas = ventas_por_plataforma.sort_values(ascending=False)\n",
    "\n",
    "print(ventas_por_plataforma_ordenadas)\n"
   ]
  },
  {
   "cell_type": "code",
   "execution_count": 11,
   "metadata": {},
   "outputs": [
    {
     "name": "stdout",
     "output_type": "stream",
     "text": [
      "Editorial\n",
      "Nintendo                       1784.43\n",
      "Electronic Arts                1093.39\n",
      "Activision                      721.41\n",
      "Sony Computer Entertainment     607.28\n",
      "Ubisoft                         473.25\n",
      "                                ...   \n",
      "Epic Games                        0.01\n",
      "Paradox Development               0.01\n",
      "Rain Games                        0.01\n",
      "Ascaron Entertainment             0.01\n",
      "Commseed                          0.01\n",
      "Name: Ventas Global, Length: 576, dtype: float64\n"
     ]
    }
   ],
   "source": [
    "ventas_por_pais = df.groupby(\"Editorial\")[\"Ventas Global\"].sum()\n",
    "ventas_por_pais_ordenadas = ventas_por_pais.sort_values(ascending=False)\n",
    "\n",
    "print(ventas_por_pais_ordenadas)\n"
   ]
  }
 ],
 "metadata": {
  "kernelspec": {
   "display_name": "base",
   "language": "python",
   "name": "python3"
  },
  "language_info": {
   "codemirror_mode": {
    "name": "ipython",
    "version": 3
   },
   "file_extension": ".py",
   "mimetype": "text/x-python",
   "name": "python",
   "nbconvert_exporter": "python",
   "pygments_lexer": "ipython3",
   "version": "3.12.3"
  }
 },
 "nbformat": 4,
 "nbformat_minor": 2
}
